{
 "cells": [
  {
   "cell_type": "code",
   "execution_count": null,
   "metadata": {
    "ExecuteTime": {
     "end_time": "2021-01-25T11:12:43.666679Z",
     "start_time": "2021-01-25T11:12:38.417209Z"
    }
   },
   "outputs": [],
   "source": [
    "# jupyter notebook tested on docker tensorflow/tensorflow:2.4.1-gpu-jupyter\n",
    "\n",
    "import glob, shutil, os\n",
    "import matplotlib.pyplot as plt\n",
    "import pandas as pd\n",
    "import numpy as np\n",
    "import seaborn as sns; sns.set()\n",
    "\n",
    "import tensorflow as tf\n",
    "from tensorflow.keras.applications import EfficientNetB4\n",
    "from tensorflow import keras\n",
    "from tensorflow.keras import layers\n",
    "from tensorflow.keras.models import Sequential\n",
    "from tensorflow.keras.layers import Dense, Conv2D, Flatten, Dropout, MaxPooling2D\n",
    "from tensorflow.keras.layers.experimental import preprocessing\n",
    "from keras_preprocessing.image import ImageDataGenerator\n",
    "\n",
    "from pandas import Series, DataFrame\n",
    "from PIL import Image, ImageEnhance, ImageOps\n",
    "\n",
    "os.environ[\"CUDA_DEVICE_ORDER\"] = 'PCI_BUS_ID'\n",
    "os.environ[\"CUDA_VISIBLE_DEVICES\"] = '0'\n",
    "\n",
    "from tensorflow.keras.mixed_precision import experimental as mixed_precision\n",
    "os.environ[\"TF_ENABLE_AUTO_MIXED_PRECISION\"] = '1'\n",
    "\n",
    "np.random.seed(0)\n",
    "%matplotlib inline"
   ]
  },
  {
   "cell_type": "code",
   "execution_count": null,
   "metadata": {},
   "outputs": [],
   "source": [
    "physical_devices = tf.config.list_physical_devices('GPU')\n",
    "if len(physical_devices) > 0:\n",
    "    for device in physical_devices:\n",
    "        tf.config.experimental.set_memory_growth(device, True)\n",
    "        print('{} memory growth: {}'.format(device, tf.config.experimental.get_memory_growth(device)))\n",
    "else:\n",
    "    print(\"Not enough GPU hardware devices available\")"
   ]
  },
  {
   "cell_type": "code",
   "execution_count": null,
   "metadata": {
    "ExecuteTime": {
     "end_time": "2021-01-25T11:12:45.601495Z",
     "start_time": "2021-01-25T11:12:43.683753Z"
    }
   },
   "outputs": [],
   "source": [
    "strategy = tf.distribute.MirroredStrategy()\n",
    "print('Number of devices: {}'.format(strategy.num_replicas_in_sync))"
   ]
  },
  {
   "cell_type": "code",
   "execution_count": null,
   "metadata": {
    "ExecuteTime": {
     "end_time": "2021-01-25T11:12:45.975230Z",
     "start_time": "2021-01-25T11:12:45.623268Z"
    },
    "scrolled": true
   },
   "outputs": [],
   "source": [
    "policy = mixed_precision.Policy('mixed_float16')\n",
    "mixed_precision.set_policy(policy)\n",
    "print('Compute dtype: %s' % policy.compute_dtype)\n",
    "print('Variable dtype: %s' % policy.variable_dtype)"
   ]
  },
  {
   "cell_type": "code",
   "execution_count": null,
   "metadata": {},
   "outputs": [],
   "source": [
    "### class list ###\n",
    "annotated_group = ['AMY',\n",
    " 'ANC',\n",
    " 'ATN',\n",
    " 'BNS',\n",
    " 'CRE',\n",
    " 'DMN',\n",
    " 'END',\n",
    " 'FAB',\n",
    " 'FGS',\n",
    " 'IGA',\n",
    " 'LUD',\n",
    " 'LUE',\n",
    " 'LUX',\n",
    " 'MCN',\n",
    " 'MEN',\n",
    " 'MGA',\n",
    " 'MPG',\n",
    " 'MSP',\n",
    " 'PUR',\n",
    " 'TIN',\n",
    " 'XXX_Blank']\n",
    "\n",
    "#　correspondence table　(Figure 7D)\n",
    "# AMY = Amy\n",
    "# ANC = ANCA\n",
    "# ATN = ATN\n",
    "# BNS = BNS\n",
    "# CRE = Crescent\n",
    "# DMN = DMN\n",
    "# END = Endocap\n",
    "# FAB = Fabry\n",
    "# FGS = FSGS\n",
    "# IGA = IgAN\n",
    "# LUD = Lupus_IV\n",
    "# LUE = Lupus_V\n",
    "# LUX = Lupus_non\n",
    "# MCN = MCNS\n",
    "# MEN = MN\n",
    "# MGA = MGA\n",
    "# MPG = MPGN\n",
    "# MSP = MesPro\n",
    "# PUR = Purpura\n",
    "# TIN = TIN\n",
    "# XXX_Blank = blank\n"
   ]
  },
  {
   "cell_type": "code",
   "execution_count": null,
   "metadata": {},
   "outputs": [],
   "source": [
    "annotated_dict = dict(zip(np.arange(len(annotated_group)), annotated_group))\n",
    "annotated_dict"
   ]
  },
  {
   "cell_type": "code",
   "execution_count": null,
   "metadata": {},
   "outputs": [],
   "source": [
    "NUM_CLASSES = len(annotated_group)\n",
    "IMG_SIZE = 380\n",
    "BATCH_SIZE = 64\n",
    "WORKERS = 32"
   ]
  },
  {
   "cell_type": "code",
   "execution_count": null,
   "metadata": {},
   "outputs": [],
   "source": [
    "def build_model():\n",
    "    inputs = layers.Input(shape=(IMG_SIZE, IMG_SIZE, 3))\n",
    "    model = EfficientNetB4(include_top=False, input_tensor=inputs, weights=None,\n",
    "                           drop_connect_rate=0.3)\n",
    "    model.trainable = False\n",
    "    x = layers.GlobalAveragePooling2D(name=\"avg_pool\")(model.output)\n",
    "    x = layers.Dropout(0.2, name=\"top2_dropout\")(x)\n",
    "    x = layers.Dense(512, activation='relu')(x)\n",
    "    x = layers.Dropout(0.2, name=\"top1_dropout\")(x)\n",
    "    outputs = layers.Dense(NUM_CLASSES, activation='softmax', name=\"pred\")(x)\n",
    "    \n",
    "    model = tf.keras.Model(inputs, outputs, name=\"EfficientNet\")\n",
    "    optimizer = tf.keras.optimizers.Adam(learning_rate=1e-2)\n",
    "    model.compile(optimizer=optimizer, loss=\"categorical_crossentropy\", metrics=[\"accuracy\"])\n",
    "    return model\n",
    "\n",
    "with strategy.scope():\n",
    "    model = build_model()\n",
    "model.summary()"
   ]
  },
  {
   "cell_type": "code",
   "execution_count": null,
   "metadata": {},
   "outputs": [],
   "source": [
    "# load weight\n",
    "# set path to the trained weight\n",
    "\n",
    "model.load_weights(#set path to 'CNN_Diag_5fold_weight_1st.h5' - 'CNN_Diag_5fold_weight_5th.h5')"
   ]
  },
  {
   "cell_type": "code",
   "execution_count": null,
   "metadata": {},
   "outputs": [],
   "source": [
    "# set image_directory \n",
    "# assumed directory structure is 'YOUR_TEST_DIRECTORY/SUB_DIRECTORY/IMAGES'\n",
    "\n",
    "test_dir = # YOUR_TEST_DIRECTORY\n",
    "\n",
    "test_datagen = tf.keras.preprocessing.image.ImageDataGenerator()\n",
    "test_generator = test_datagen.flow_from_directory(test_dir, \n",
    "                                                    target_size=(IMG_SIZE,IMG_SIZE), \n",
    "                                                    batch_size=BATCH_SIZE,\n",
    "                                                    color_mode=\"rgb\",\n",
    "                                                    shuffle = False,\n",
    "                                                    class_mode='categorical',\n",
    "                                                   interpolation = 'bilinear')"
   ]
  },
  {
   "cell_type": "code",
   "execution_count": null,
   "metadata": {},
   "outputs": [],
   "source": [
    "test_filenames = test_generator.filenames\n",
    "test_filenames"
   ]
  },
  {
   "cell_type": "code",
   "execution_count": null,
   "metadata": {},
   "outputs": [],
   "source": [
    "predicted_scores = model.predict_generator(test_generator,workers=WORKERS, verbose=1)\n",
    "predicted_labels = np.argmax(predicted_scores, axis=1)\n",
    "predicted_probabilities = []\n",
    "for i, j in zip(predicted_scores, predicted_labels):\n",
    "    predicted_probabilities.append(i[j])"
   ]
  },
  {
   "cell_type": "code",
   "execution_count": null,
   "metadata": {},
   "outputs": [],
   "source": [
    "predicted_scores"
   ]
  },
  {
   "cell_type": "code",
   "execution_count": null,
   "metadata": {},
   "outputs": [],
   "source": [
    "# See ’annotated_dict' for the meanings of predicted_labels\n",
    "predicted_labels"
   ]
  },
  {
   "cell_type": "code",
   "execution_count": null,
   "metadata": {},
   "outputs": [],
   "source": [
    "predicted_probabilities"
   ]
  },
  {
   "cell_type": "code",
   "execution_count": null,
   "metadata": {},
   "outputs": [],
   "source": [
    "plt.hist(predicted_probabilities, bins = 50)"
   ]
  }
 ],
 "metadata": {
  "kernelspec": {
   "display_name": "Python 3 (ipykernel)",
   "language": "python",
   "name": "python3"
  },
  "language_info": {
   "codemirror_mode": {
    "name": "ipython",
    "version": 3
   },
   "file_extension": ".py",
   "mimetype": "text/x-python",
   "name": "python",
   "nbconvert_exporter": "python",
   "pygments_lexer": "ipython3",
   "version": "3.9.12"
  },
  "varInspector": {
   "cols": {
    "lenName": 16,
    "lenType": 16,
    "lenVar": 40
   },
   "kernels_config": {
    "python": {
     "delete_cmd_postfix": "",
     "delete_cmd_prefix": "del ",
     "library": "var_list.py",
     "varRefreshCmd": "print(var_dic_list())"
    },
    "r": {
     "delete_cmd_postfix": ") ",
     "delete_cmd_prefix": "rm(",
     "library": "var_list.r",
     "varRefreshCmd": "cat(var_dic_list()) "
    }
   },
   "types_to_exclude": [
    "module",
    "function",
    "builtin_function_or_method",
    "instance",
    "_Feature"
   ],
   "window_display": false
  }
 },
 "nbformat": 4,
 "nbformat_minor": 2
}
